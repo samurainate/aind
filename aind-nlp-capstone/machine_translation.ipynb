{
 "cells": [
  {
   "cell_type": "markdown",
   "metadata": {
    "collapsed": true
   },
   "source": [
    "# Artificial Intelligence Nanodegree\n",
    "## Machine Translation Project\n",
    "In this notebook, sections that end with **'(IMPLEMENTATION)'** in the header indicate that the following blocks of code will require additional functionality which you must provide. Please be sure to read the instructions carefully!\n",
    "\n",
    "## Introduction\n",
    "In this notebook, you will build a deep neural network that functions as part of an end-to-end machine translation pipeline. Your completed pipeline will accept English text as input and return the French translation.\n",
    "\n",
    "- **Preprocess** - You'll convert text to sequence of integers.\n",
    "- **Models** Create models which accepts a sequence of integers as input and returns a probability distribution over possible translations. After learning about the basic types of neural networks that are often used for machine translation, you will engage in your own investigations, to design your own model!\n",
    "- **Prediction** Run the model on English text.\n",
    "\n",
    "## Dataset\n",
    "We begin by investigating the dataset that will be used to train and evaluate your pipeline.  The most common datasets used for machine translation are from [WMT](http://www.statmt.org/).  However, that will take a long time to train a neural network on.  We'll be using a dataset we created for this project that contains a small vocabulary.  You'll be able to train your model in a reasonable time with this dataset.\n",
    "### Load Data\n",
    "The data is located in `data/small_vocab_en` and `data/small_vocab_fr`. The `small_vocab_en` file contains English sentences with their French translations in the `small_vocab_fr` file. Load the English and French data from these files from running the cell below."
   ]
  },
  {
   "cell_type": "code",
   "execution_count": 1,
   "metadata": {},
   "outputs": [
    {
     "name": "stdout",
     "output_type": "stream",
     "text": [
      "Dataset Loaded\n"
     ]
    }
   ],
   "source": [
    "import helper\n",
    "\n",
    "\n",
    "# Load English data\n",
    "english_sentences = helper.load_data('data/small_vocab_en')\n",
    "# Load French data\n",
    "french_sentences = helper.load_data('data/small_vocab_fr')\n",
    "\n",
    "print('Dataset Loaded')"
   ]
  },
  {
   "cell_type": "markdown",
   "metadata": {},
   "source": [
    "### Files\n",
    "Each line in `small_vocab_en` contains an English sentence with the respective translation in each line of `small_vocab_fr`.  View the first two lines from each file."
   ]
  },
  {
   "cell_type": "code",
   "execution_count": 2,
   "metadata": {},
   "outputs": [
    {
     "name": "stdout",
     "output_type": "stream",
     "text": [
      "small_vocab_en Line 1:  new jersey is sometimes quiet during autumn , and it is snowy in april .\n",
      "small_vocab_fr Line 1:  new jersey est parfois calme pendant l' automne , et il est neigeux en avril .\n",
      "small_vocab_en Line 2:  the united states is usually chilly during july , and it is usually freezing in november .\n",
      "small_vocab_fr Line 2:  les Ã©tats-unis est gÃ©nÃ©ralement froid en juillet , et il gÃ¨le habituellement en novembre .\n"
     ]
    }
   ],
   "source": [
    "for sample_i in range(2):\n",
    "    print('small_vocab_en Line {}:  {}'.format(sample_i + 1, english_sentences[sample_i]))\n",
    "    print('small_vocab_fr Line {}:  {}'.format(sample_i + 1, french_sentences[sample_i]))"
   ]
  },
  {
   "cell_type": "markdown",
   "metadata": {},
   "source": [
    "From looking at the sentences, you can see they have been preprocessed already.  The puncuations have been delimited using spaces. All the text have been converted to lowercase.  This should save you some time, but the text requires more preprocessing.\n",
    "### Vocabulary\n",
    "The complexity of the problem is determined by the complexity of the vocabulary.  A more complex vocabulary is a more complex problem.  Let's look at the complexity of the dataset we'll be working with."
   ]
  },
  {
   "cell_type": "code",
   "execution_count": 3,
   "metadata": {},
   "outputs": [
    {
     "name": "stdout",
     "output_type": "stream",
     "text": [
      "1823250 English words.\n",
      "227 unique English words.\n",
      "10 Most common words in the English dataset:\n",
      "\"is\" \",\" \".\" \"in\" \"it\" \"during\" \"the\" \"but\" \"and\" \"sometimes\"\n",
      "\n",
      "1961295 French words.\n",
      "355 unique French words.\n",
      "10 Most common words in the French dataset:\n",
      "\"est\" \".\" \",\" \"en\" \"il\" \"les\" \"mais\" \"et\" \"la\" \"parfois\"\n"
     ]
    }
   ],
   "source": [
    "import collections\n",
    "\n",
    "\n",
    "english_words_counter = collections.Counter([word for sentence in english_sentences for word in sentence.split()])\n",
    "french_words_counter = collections.Counter([word for sentence in french_sentences for word in sentence.split()])\n",
    "\n",
    "print('{} English words.'.format(len([word for sentence in english_sentences for word in sentence.split()])))\n",
    "print('{} unique English words.'.format(len(english_words_counter)))\n",
    "print('10 Most common words in the English dataset:')\n",
    "print('\"' + '\" \"'.join(list(zip(*english_words_counter.most_common(10)))[0]) + '\"')\n",
    "print()\n",
    "print('{} French words.'.format(len([word for sentence in french_sentences for word in sentence.split()])))\n",
    "print('{} unique French words.'.format(len(french_words_counter)))\n",
    "print('10 Most common words in the French dataset:')\n",
    "print('\"' + '\" \"'.join(list(zip(*french_words_counter.most_common(10)))[0]) + '\"')"
   ]
  },
  {
   "cell_type": "markdown",
   "metadata": {},
   "source": [
    "For comparison, _Alice's Adventures in Wonderland_ contains 2,766 unique words of a total of 15,500 words.\n",
    "## Preprocess\n",
    "For this project, you won't use text data as input to your model. Instead, you'll convert the text into sequences of integers using the following preprocess methods:\n",
    "1. Tokenize the words into ids\n",
    "2. Add padding to make all the sequences the same length.\n",
    "\n",
    "Time to start preprocessing the data...\n",
    "### Tokenize (IMPLEMENTATION)\n",
    "For a neural network to predict on text data, it first has to be turned into data it can understand. Text data like \"dog\" is a sequence of ASCII character encodings.  Since a neural network is a series of multiplication and addition operations, the input data needs to be number(s).\n",
    "\n",
    "We can turn each character into a number or each word into a number.  These are called character and word ids, respectively.  Character ids are used for character level models that generate text predictions for each character.  A word level model uses word ids that generate text predictions for each word.  Word level models tend to learn better, since they are lower in complexity, so we'll use those.\n",
    "\n",
    "Turn each sentence into a sequence of words ids using Keras's [`Tokenizer`](https://keras.io/preprocessing/text/#tokenizer) function. Use this function to tokenize `english_sentences` and `french_sentences` in the cell below.\n",
    "\n",
    "Running the cell will run `tokenize` on sample data and show output for debugging."
   ]
  },
  {
   "cell_type": "code",
   "execution_count": 4,
   "metadata": {},
   "outputs": [
    {
     "name": "stderr",
     "output_type": "stream",
     "text": [
      "Using TensorFlow backend.\n"
     ]
    },
    {
     "name": "stdout",
     "output_type": "stream",
     "text": [
      "{'dog': 9, 'is': 19, 'prize': 17, 'brown': 4, 'my': 12, 'lazy': 8, 'jove': 11, 'over': 7, 'lexicography': 15, 'this': 18, 'sentence': 21, 'study': 13, 'of': 14, 'the': 1, 'jumps': 6, 'won': 16, 'a': 3, 'short': 20, 'fox': 5, 'by': 10, 'quick': 2}\n",
      "\n",
      "Sequence 1 in x\n",
      "  Input:  The quick brown fox jumps over the lazy dog .\n",
      "  Output: [1, 2, 4, 5, 6, 7, 1, 8, 9]\n",
      "Sequence 2 in x\n",
      "  Input:  By Jove , my quick study of lexicography won a prize .\n",
      "  Output: [10, 11, 12, 2, 13, 14, 15, 16, 3, 17]\n",
      "Sequence 3 in x\n",
      "  Input:  This is a short sentence .\n",
      "  Output: [18, 19, 3, 20, 21]\n"
     ]
    }
   ],
   "source": [
    "import project_tests as tests\n",
    "from keras.preprocessing.text import Tokenizer\n",
    "\n",
    "\n",
    "def tokenize(x):\n",
    "    \"\"\"\n",
    "    Tokenize x\n",
    "    :param x: List of sentences/strings to be tokenized\n",
    "    :return: Tuple of (tokenized x data, tokenizer used to tokenize x)\n",
    "    \"\"\"\n",
    "    # TODO: Implement\n",
    "    tokenizer =  Tokenizer()\n",
    "    tokenizer.fit_on_texts(x)\n",
    "    return tokenizer.texts_to_sequences(x), tokenizer\n",
    "tests.test_tokenize(tokenize)\n",
    "\n",
    "# Tokenize Example output\n",
    "text_sentences = [\n",
    "    'The quick brown fox jumps over the lazy dog .',\n",
    "    'By Jove , my quick study of lexicography won a prize .',\n",
    "    'This is a short sentence .']\n",
    "text_tokenized, text_tokenizer = tokenize(text_sentences)\n",
    "print(text_tokenizer.word_index)\n",
    "print()\n",
    "for sample_i, (sent, token_sent) in enumerate(zip(text_sentences, text_tokenized)):\n",
    "    print('Sequence {} in x'.format(sample_i + 1))\n",
    "    print('  Input:  {}'.format(sent))\n",
    "    print('  Output: {}'.format(token_sent))"
   ]
  },
  {
   "cell_type": "markdown",
   "metadata": {},
   "source": [
    "### Padding (IMPLEMENTATION)\n",
    "When batching the sequence of word ids together, each sequence needs to be the same length.  Since sentences are dynamic in length, we can add padding to the end of the sequences to make them the same length.\n",
    "\n",
    "Make sure all the English sequences have the same length and all the French sequences have the same length by adding padding to the **end** of each sequence using Keras's [`pad_sequences`](https://keras.io/preprocessing/sequence/#pad_sequences) function."
   ]
  },
  {
   "cell_type": "code",
   "execution_count": 5,
   "metadata": {},
   "outputs": [
    {
     "name": "stdout",
     "output_type": "stream",
     "text": [
      "Sequence 1 in x\n",
      "  Input:  [1 2 4 5 6 7 1 8 9]\n",
      "  Output: [1 2 4 5 6 7 1 8 9 0]\n",
      "Sequence 2 in x\n",
      "  Input:  [10 11 12  2 13 14 15 16  3 17]\n",
      "  Output: [10 11 12  2 13 14 15 16  3 17]\n",
      "Sequence 3 in x\n",
      "  Input:  [18 19  3 20 21]\n",
      "  Output: [18 19  3 20 21  0  0  0  0  0]\n"
     ]
    }
   ],
   "source": [
    "import numpy as np\n",
    "from keras.preprocessing.sequence import pad_sequences\n",
    "\n",
    "\n",
    "def pad(x, length=None):\n",
    "    \"\"\"\n",
    "    Pad x\n",
    "    :param x: List of sequences.\n",
    "    :param length: Length to pad the sequence to.  If None, use length of longest sequence in x.\n",
    "    :return: Padded numpy array of sequences\n",
    "    \"\"\"\n",
    "    # TODO: Implement\n",
    "    return pad_sequences(x,maxlen=length,padding='post')\n",
    "tests.test_pad(pad)\n",
    "\n",
    "# Pad Tokenized output\n",
    "test_pad = pad(text_tokenized)\n",
    "for sample_i, (token_sent, pad_sent) in enumerate(zip(text_tokenized, test_pad)):\n",
    "    print('Sequence {} in x'.format(sample_i + 1))\n",
    "    print('  Input:  {}'.format(np.array(token_sent)))\n",
    "    print('  Output: {}'.format(pad_sent))"
   ]
  },
  {
   "cell_type": "markdown",
   "metadata": {},
   "source": [
    "### Preprocess Pipeline\n",
    "Your focus for this project is to build neural network architecture, so we won't ask you to create a preprocess pipeline.  Instead, we've provided you with the implementation of the `preprocess` function."
   ]
  },
  {
   "cell_type": "code",
   "execution_count": 6,
   "metadata": {},
   "outputs": [
    {
     "name": "stdout",
     "output_type": "stream",
     "text": [
      "Data Preprocessed\n"
     ]
    }
   ],
   "source": [
    "def preprocess(x, y):\n",
    "    \"\"\"\n",
    "    Preprocess x and y\n",
    "    :param x: Feature List of sentences\n",
    "    :param y: Label List of sentences\n",
    "    :return: Tuple of (Preprocessed x, Preprocessed y, x tokenizer, y tokenizer)\n",
    "    \"\"\"\n",
    "    preprocess_x, x_tk = tokenize(x)\n",
    "    preprocess_y, y_tk = tokenize(y)\n",
    "\n",
    "    preprocess_x = pad(preprocess_x)\n",
    "    preprocess_y = pad(preprocess_y)\n",
    "\n",
    "    # Keras's sparse_categorical_crossentropy function requires the labels to be in 3 dimensions\n",
    "    preprocess_y = preprocess_y.reshape(*preprocess_y.shape, 1)\n",
    "\n",
    "    return preprocess_x, preprocess_y, x_tk, y_tk\n",
    "\n",
    "preproc_english_sentences, preproc_french_sentences, english_tokenizer, french_tokenizer =\\\n",
    "    preprocess(english_sentences, french_sentences)\n",
    "\n",
    "print('Data Preprocessed')"
   ]
  },
  {
   "cell_type": "markdown",
   "metadata": {},
   "source": [
    "## Models\n",
    "In this section, you will experiment with various neural network architectures.\n",
    "You will begin by training four relatively simple architectures.\n",
    "- Model 1 is a simple RNN\n",
    "- Model 2 is a RNN with Embedding\n",
    "- Model 3 is a Bidirectional RNN\n",
    "- Model 4 is an optional Encoder-Decoder RNN\n",
    "\n",
    "After experimenting with the four simple architectures, you will construct a deeper architecture that is designed to outperform all four models.\n",
    "### Ids Back to Text\n",
    "The neural network will be translating the input to words ids, which isn't the final form we want.  We want the French translation.  The function `logits_to_text` will bridge the gab between the logits from the neural network to the French translation.  You'll be using this function to better understand the output of the neural network."
   ]
  },
  {
   "cell_type": "code",
   "execution_count": 7,
   "metadata": {},
   "outputs": [
    {
     "name": "stdout",
     "output_type": "stream",
     "text": [
      "`logits_to_text` function loaded.\n"
     ]
    }
   ],
   "source": [
    "def logits_to_text(logits, tokenizer):\n",
    "    \"\"\"\n",
    "    Turn logits from a neural network into text using the tokenizer\n",
    "    :param logits: Logits from a neural network\n",
    "    :param tokenizer: Keras Tokenizer fit on the labels\n",
    "    :return: String that represents the text of the logits\n",
    "    \"\"\"\n",
    "    index_to_words = {id: word for word, id in tokenizer.word_index.items()}\n",
    "    index_to_words[0] = '<PAD>'\n",
    "\n",
    "    return ' '.join([index_to_words[prediction] for prediction in np.argmax(logits, 1)])\n",
    "\n",
    "print('`logits_to_text` function loaded.')"
   ]
  },
  {
   "cell_type": "markdown",
   "metadata": {},
   "source": [
    "### Model 1: RNN (IMPLEMENTATION)\n",
    "![RNN](images/rnn.png)\n",
    "A basic RNN model is a good baseline for sequence data.  In this model, you'll build a RNN that translates English to French."
   ]
  },
  {
   "cell_type": "code",
   "execution_count": 8,
   "metadata": {},
   "outputs": [
    {
     "name": "stdout",
     "output_type": "stream",
     "text": [
      "(137861, 21, 1) 21 199 344\n",
      "(137861, 21, 1) 21 199 345\n",
      "Train on 110288 samples, validate on 27573 samples\n",
      "Epoch 1/20\n",
      "110288/110288 [==============================] - 14s 128us/step - loss: 1.8936 - acc: 0.5586 - val_loss: nan - val_acc: 0.6265\n",
      "Epoch 2/20\n",
      "110288/110288 [==============================] - 14s 124us/step - loss: 1.2499 - acc: 0.6457 - val_loss: nan - val_acc: 0.6556\n",
      "Epoch 3/20\n",
      "110288/110288 [==============================] - 14s 123us/step - loss: 1.1135 - acc: 0.6633 - val_loss: nan - val_acc: 0.6677\n",
      "Epoch 4/20\n",
      "110288/110288 [==============================] - 13s 117us/step - loss: 1.0436 - acc: 0.6729 - val_loss: nan - val_acc: 0.6824\n",
      "Epoch 5/20\n",
      "110288/110288 [==============================] - 13s 114us/step - loss: 1.0010 - acc: 0.6814 - val_loss: nan - val_acc: 0.6826\n",
      "Epoch 6/20\n",
      "110288/110288 [==============================] - 13s 122us/step - loss: 0.9653 - acc: 0.6892 - val_loss: nan - val_acc: 0.6923\n",
      "Epoch 7/20\n",
      "110288/110288 [==============================] - 13s 122us/step - loss: 0.9422 - acc: 0.6961 - val_loss: nan - val_acc: 0.7043\n",
      "Epoch 8/20\n",
      "110288/110288 [==============================] - 13s 119us/step - loss: 0.9147 - acc: 0.7038 - val_loss: nan - val_acc: 0.7109\n",
      "Epoch 9/20\n",
      "110288/110288 [==============================] - 13s 122us/step - loss: 0.8984 - acc: 0.7073 - val_loss: nan - val_acc: 0.7213\n",
      "Epoch 10/20\n",
      "110288/110288 [==============================] - 14s 125us/step - loss: 0.8577 - acc: 0.7226 - val_loss: nan - val_acc: 0.6705\n",
      "Epoch 11/20\n",
      "110288/110288 [==============================] - 14s 125us/step - loss: 0.8911 - acc: 0.6998 - val_loss: nan - val_acc: 0.7142\n",
      "Epoch 12/20\n",
      "110288/110288 [==============================] - 14s 124us/step - loss: 0.8565 - acc: 0.7126 - val_loss: nan - val_acc: 0.7229\n",
      "Epoch 13/20\n",
      "110288/110288 [==============================] - 14s 128us/step - loss: 0.8408 - acc: 0.7194 - val_loss: nan - val_acc: 0.7227\n",
      "Epoch 14/20\n",
      "110288/110288 [==============================] - 14s 124us/step - loss: 0.8201 - acc: 0.7296 - val_loss: nan - val_acc: 0.7106\n",
      "Epoch 15/20\n",
      "110288/110288 [==============================] - 14s 124us/step - loss: 0.7955 - acc: 0.7397 - val_loss: nan - val_acc: 0.7381\n",
      "Epoch 16/20\n",
      "110288/110288 [==============================] - 14s 126us/step - loss: 0.7678 - acc: 0.7509 - val_loss: nan - val_acc: 0.7595\n",
      "Epoch 17/20\n",
      "110288/110288 [==============================] - 14s 128us/step - loss: 0.7689 - acc: 0.7485 - val_loss: nan - val_acc: 0.7550\n",
      "Epoch 18/20\n",
      "110288/110288 [==============================] - 14s 127us/step - loss: 0.7551 - acc: 0.7540 - val_loss: nan - val_acc: 0.7550\n",
      "Epoch 19/20\n",
      "110288/110288 [==============================] - 14s 128us/step - loss: 0.7344 - acc: 0.7619 - val_loss: nan - val_acc: 0.7354\n",
      "Epoch 20/20\n",
      "110288/110288 [==============================] - 14s 128us/step - loss: 0.7196 - acc: 0.7669 - val_loss: nan - val_acc: 0.7715\n",
      "new jersey est parfois calme en mois de il est il en neigeux <PAD> <PAD> <PAD> <PAD> <PAD> <PAD> <PAD> <PAD>\n"
     ]
    }
   ],
   "source": [
    "from keras.layers import GRU, Input, Dense, TimeDistributed\n",
    "from keras.models import Model\n",
    "from keras.layers import Activation\n",
    "from keras.optimizers import Adam\n",
    "from keras.losses import sparse_categorical_crossentropy\n",
    "\n",
    "\n",
    "def simple_model(input_shape, output_sequence_length, english_vocab_size, french_vocab_size, learning_rate=0.01):\n",
    "    \"\"\"\n",
    "    Build and train a basic RNN on x and y\n",
    "    :param input_shape: Tuple of input shape\n",
    "    :param output_sequence_length: Length of output sequence\n",
    "    :param english_vocab_size: Number of unique English words in the dataset\n",
    "    :param french_vocab_size: Number of unique French words in the dataset\n",
    "    :return: Keras model built, but not trained\n",
    "    \"\"\"\n",
    "    # TODO: Build the layers\n",
    "    print(input_shape, output_sequence_length, english_vocab_size, french_vocab_size)\n",
    "    inputs = Input(shape=(output_sequence_length,1)) # input is encoded\n",
    "    grus = GRU(128,return_sequences=True)(inputs)\n",
    "    logits = Dense(french_vocab_size,activation=\"softmax\")(grus)\n",
    "    model = Model(inputs=inputs,outputs=logits)\n",
    "    model.compile(loss=sparse_categorical_crossentropy,\n",
    "                  optimizer=Adam(learning_rate),\n",
    "                  metrics=['accuracy'])\n",
    "    return model\n",
    "tests.test_simple_model(simple_model)\n",
    "\n",
    "\n",
    "# Reshaping the input to work with a basic RNN\n",
    "tmp_x = pad(preproc_english_sentences, preproc_french_sentences.shape[1])\n",
    "tmp_x = tmp_x.reshape((-1, preproc_french_sentences.shape[-2], 1))\n",
    "\n",
    "# Train the neural network\n",
    "simple_rnn_model = simple_model(\n",
    "    tmp_x.shape,\n",
    "    preproc_french_sentences.shape[1],\n",
    "    len(english_tokenizer.word_index),\n",
    "    len(french_tokenizer.word_index))\n",
    "simple_rnn_model.fit(tmp_x, preproc_french_sentences, batch_size=1024, epochs=20, validation_split=0.2)\n",
    "simple_rnn_model.save(\"simple_rnn_model_e20.h5\")\n",
    "\n",
    "# Print prediction(s)\n",
    "print(logits_to_text(simple_rnn_model.predict(tmp_x[:1])[0], french_tokenizer))"
   ]
  },
  {
   "cell_type": "code",
   "execution_count": 9,
   "metadata": {},
   "outputs": [
    {
     "name": "stdout",
     "output_type": "stream",
     "text": [
      "new jersey is sometimes quiet during autumn and it is snowy in april <PAD> <PAD> <PAD> <PAD> <PAD> <PAD> <PAD> <PAD>\n",
      "new jersey est parfois calme en mois de il est il en neigeux <PAD> <PAD> <PAD> <PAD> <PAD> <PAD> <PAD> <PAD>\n"
     ]
    }
   ],
   "source": [
    "# Print prediction(s)\n",
    "index_to_words = {id: word for word, id in english_tokenizer.word_index.items()}\n",
    "index_to_words[0] = '<PAD>'\n",
    "print(' '.join([index_to_words[word] for word in tmp_x[:1,].flatten()]))\n",
    "print(logits_to_text(simple_rnn_model.predict(tmp_x[:1])[0], french_tokenizer))"
   ]
  },
  {
   "cell_type": "code",
   "execution_count": 10,
   "metadata": {
    "collapsed": true
   },
   "outputs": [],
   "source": [
    "# Make room on GPU\n",
    "from keras import backend\n",
    "backend.clear_session()"
   ]
  },
  {
   "cell_type": "markdown",
   "metadata": {},
   "source": [
    "### Model 2: Embedding (IMPLEMENTATION)\n",
    "![RNN](images/embedding.png)\n",
    "You've turned the words into ids, but there's a better representation of a word.  This is called word embeddings.  An embedding is a vector representation of the word that is close to similar words in n-dimensional space, where the n represents the size of the embedding vectors.\n",
    "\n",
    "In this model, you'll create a RNN model using embedding."
   ]
  },
  {
   "cell_type": "code",
   "execution_count": 11,
   "metadata": {},
   "outputs": [
    {
     "name": "stdout",
     "output_type": "stream",
     "text": [
      "Train on 110288 samples, validate on 27573 samples\n",
      "Epoch 1/20\n",
      "110288/110288 [==============================] - 20s 181us/step - loss: 1.8924 - acc: 0.6055 - val_loss: nan - val_acc: 0.8198\n",
      "Epoch 2/20\n",
      "110288/110288 [==============================] - 19s 176us/step - loss: 0.4157 - acc: 0.8731 - val_loss: nan - val_acc: 0.9020\n",
      "Epoch 3/20\n",
      "110288/110288 [==============================] - 19s 176us/step - loss: 0.2747 - acc: 0.9104 - val_loss: nan - val_acc: 0.9181\n",
      "Epoch 4/20\n",
      "110288/110288 [==============================] - 19s 177us/step - loss: 0.2319 - acc: 0.9223 - val_loss: nan - val_acc: 0.9243\n",
      "Epoch 5/20\n",
      "110288/110288 [==============================] - 19s 176us/step - loss: 0.2116 - acc: 0.9276 - val_loss: nan - val_acc: 0.9289\n",
      "Epoch 6/20\n",
      "110288/110288 [==============================] - 19s 176us/step - loss: 0.2012 - acc: 0.9305 - val_loss: nan - val_acc: 0.9293\n",
      "Epoch 7/20\n",
      "110288/110288 [==============================] - 19s 176us/step - loss: 0.1939 - acc: 0.9323 - val_loss: nan - val_acc: 0.9303\n",
      "Epoch 8/20\n",
      "110288/110288 [==============================] - 19s 176us/step - loss: 0.1863 - acc: 0.9343 - val_loss: nan - val_acc: 0.9321\n",
      "Epoch 9/20\n",
      "110288/110288 [==============================] - 19s 176us/step - loss: 0.1846 - acc: 0.9347 - val_loss: nan - val_acc: 0.9319\n",
      "Epoch 10/20\n",
      "110288/110288 [==============================] - 19s 176us/step - loss: 0.1802 - acc: 0.9359 - val_loss: nan - val_acc: 0.9330\n",
      "Epoch 11/20\n",
      "110288/110288 [==============================] - 19s 176us/step - loss: 0.1822 - acc: 0.9353 - val_loss: nan - val_acc: 0.9296\n",
      "Epoch 12/20\n",
      "110288/110288 [==============================] - 19s 176us/step - loss: 0.1874 - acc: 0.9338 - val_loss: nan - val_acc: 0.9300\n",
      "Epoch 13/20\n",
      "110288/110288 [==============================] - 19s 175us/step - loss: 0.1910 - acc: 0.9329 - val_loss: nan - val_acc: 0.9286\n",
      "Epoch 14/20\n",
      "110288/110288 [==============================] - 19s 174us/step - loss: 0.1938 - acc: 0.9324 - val_loss: nan - val_acc: 0.9303\n",
      "Epoch 15/20\n",
      "110288/110288 [==============================] - 19s 175us/step - loss: 0.1874 - acc: 0.9340 - val_loss: nan - val_acc: 0.9304\n",
      "Epoch 16/20\n",
      "110288/110288 [==============================] - 19s 175us/step - loss: 0.1875 - acc: 0.9339 - val_loss: nan - val_acc: 0.9312\n",
      "Epoch 17/20\n",
      "110288/110288 [==============================] - 19s 175us/step - loss: 0.1930 - acc: 0.9323 - val_loss: nan - val_acc: 0.9297\n",
      "Epoch 18/20\n",
      "110288/110288 [==============================] - 19s 176us/step - loss: 0.1933 - acc: 0.9325 - val_loss: nan - val_acc: 0.9302\n",
      "Epoch 19/20\n",
      "110288/110288 [==============================] - 19s 176us/step - loss: 0.1928 - acc: 0.9328 - val_loss: nan - val_acc: 0.9264\n",
      "Epoch 20/20\n",
      "110288/110288 [==============================] - 19s 177us/step - loss: 0.2160 - acc: 0.9267 - val_loss: nan - val_acc: 0.9220\n",
      "new jersey is sometimes quiet during autumn and it is snowy in april <PAD> <PAD> <PAD> <PAD> <PAD> <PAD> <PAD> <PAD>\n",
      "new jersey est parfois calme en l' automne et il est neigeux en avril <PAD> <PAD> <PAD> <PAD> <PAD> <PAD> <PAD>\n"
     ]
    }
   ],
   "source": [
    "from keras.layers.embeddings import Embedding\n",
    "\n",
    "def embed_model(input_shape, output_sequence_length, english_vocab_size, french_vocab_size, learning_rate=0.01):\n",
    "    \"\"\"\n",
    "    Build and train a RNN model using word embedding on x and y\n",
    "    :param input_shape: Tuple of input shape\n",
    "    :param output_sequence_length: Length of output sequence\n",
    "    :param english_vocab_size: Number of unique English words in the dataset\n",
    "    :param french_vocab_size: Number of unique French words in the dataset\n",
    "    :return: Keras model built, but not trained\n",
    "    \"\"\"\n",
    "    # TODO: Implement\n",
    "    inputs = Input(shape=(output_sequence_length,)) \n",
    "    embed = Embedding(english_vocab_size,64)(inputs)\n",
    "    grus = GRU(256,return_sequences=True)(embed)\n",
    "    logits = Dense(french_vocab_size,activation=\"softmax\")(grus)\n",
    "    model = Model(inputs=inputs,outputs=logits)\n",
    "    model.compile(loss=sparse_categorical_crossentropy,\n",
    "                  optimizer=Adam(learning_rate),\n",
    "                  metrics=['accuracy'])\n",
    "    return model\n",
    "tests.test_embed_model(embed_model)\n",
    "\n",
    "\n",
    "# TODO: Reshape the input\n",
    "tmp_x = pad(preproc_english_sentences, preproc_french_sentences.shape[1])\n",
    "\n",
    "# TODO: Train the neural network\n",
    "embedded_model = embed_model(\n",
    "    tmp_x.shape,\n",
    "    preproc_french_sentences.shape[1],\n",
    "    len(english_tokenizer.word_index),\n",
    "    len(french_tokenizer.word_index))\n",
    "embedded_model.fit(tmp_x, preproc_french_sentences, batch_size=1024, epochs=20, validation_split=0.2)\n",
    "embedded_model.save(\"embed_rnn_model_e20.h5\")\n",
    "\n",
    "# TODO: Print prediction(s)\n",
    "index_to_words = {id: word for word, id in english_tokenizer.word_index.items()}\n",
    "index_to_words[0] = '<PAD>'\n",
    "print(' '.join([index_to_words[word] for word in tmp_x[:1,].flatten()]))\n",
    "print(logits_to_text(embedded_model.predict(tmp_x[:1])[0], french_tokenizer))"
   ]
  },
  {
   "cell_type": "code",
   "execution_count": 12,
   "metadata": {
    "collapsed": true
   },
   "outputs": [],
   "source": [
    "# Make room on GPU\n",
    "from keras import backend\n",
    "backend.clear_session()"
   ]
  },
  {
   "cell_type": "markdown",
   "metadata": {},
   "source": [
    "### Model 3: Bidirectional RNNs (IMPLEMENTATION)\n",
    "![RNN](images/bidirectional.png)\n",
    "One restriction of a RNN is that it can't see the future input, only the past.  This is where bidirectional recurrent neural networks come in.  They are able to see the future data."
   ]
  },
  {
   "cell_type": "code",
   "execution_count": 20,
   "metadata": {
    "scrolled": false
   },
   "outputs": [
    {
     "name": "stdout",
     "output_type": "stream",
     "text": [
      "Train on 110288 samples, validate on 27573 samples\n",
      "Epoch 1/20\n",
      "110288/110288 [==============================] - 16s 148us/step - loss: 1.8573 - acc: 0.5773 - val_loss: nan - val_acc: 0.6375\n",
      "Epoch 2/20\n",
      "110288/110288 [==============================] - 15s 139us/step - loss: 1.2128 - acc: 0.6575 - val_loss: nan - val_acc: 0.6696\n",
      "Epoch 3/20\n",
      "110288/110288 [==============================] - 16s 143us/step - loss: 1.0919 - acc: 0.6767 - val_loss: nan - val_acc: 0.6811\n",
      "Epoch 4/20\n",
      "110288/110288 [==============================] - 15s 140us/step - loss: 1.0314 - acc: 0.6855 - val_loss: nan - val_acc: 0.6912\n",
      "Epoch 5/20\n",
      "110288/110288 [==============================] - 16s 141us/step - loss: 0.9779 - acc: 0.6952 - val_loss: nan - val_acc: 0.6974\n",
      "Epoch 6/20\n",
      "110288/110288 [==============================] - 16s 146us/step - loss: 0.9428 - acc: 0.7014 - val_loss: nan - val_acc: 0.7025\n",
      "Epoch 7/20\n",
      "110288/110288 [==============================] - 16s 145us/step - loss: 0.9181 - acc: 0.7066 - val_loss: nan - val_acc: 0.7106\n",
      "Epoch 8/20\n",
      "110288/110288 [==============================] - 16s 145us/step - loss: 0.8958 - acc: 0.7121 - val_loss: nan - val_acc: 0.7146\n",
      "Epoch 9/20\n",
      "110288/110288 [==============================] - 16s 146us/step - loss: 0.8770 - acc: 0.7165 - val_loss: nan - val_acc: 0.7223\n",
      "Epoch 10/20\n",
      "110288/110288 [==============================] - 16s 146us/step - loss: 0.8592 - acc: 0.7211 - val_loss: nan - val_acc: 0.7208\n",
      "Epoch 11/20\n",
      "110288/110288 [==============================] - 16s 143us/step - loss: 0.8489 - acc: 0.7238 - val_loss: nan - val_acc: 0.7283\n",
      "Epoch 12/20\n",
      "110288/110288 [==============================] - 15s 138us/step - loss: 0.8302 - acc: 0.7287 - val_loss: nan - val_acc: 0.7284\n",
      "Epoch 13/20\n",
      "110288/110288 [==============================] - 15s 133us/step - loss: 0.8156 - acc: 0.7335 - val_loss: nan - val_acc: 0.7317\n",
      "Epoch 14/20\n",
      "110288/110288 [==============================] - 15s 137us/step - loss: 0.7999 - acc: 0.7387 - val_loss: nan - val_acc: 0.7458\n",
      "Epoch 15/20\n",
      "110288/110288 [==============================] - 15s 137us/step - loss: 0.7852 - acc: 0.7436 - val_loss: nan - val_acc: 0.7296\n",
      "Epoch 16/20\n",
      "110288/110288 [==============================] - 15s 137us/step - loss: 0.7974 - acc: 0.7401 - val_loss: nan - val_acc: 0.7389\n",
      "Epoch 17/20\n",
      "110288/110288 [==============================] - 15s 139us/step - loss: 0.7727 - acc: 0.7489 - val_loss: nan - val_acc: 0.7530\n",
      "Epoch 18/20\n",
      "110288/110288 [==============================] - 15s 139us/step - loss: 0.7581 - acc: 0.7533 - val_loss: nan - val_acc: 0.7604\n",
      "Epoch 19/20\n",
      "110288/110288 [==============================] - 15s 139us/step - loss: 0.7424 - acc: 0.7587 - val_loss: nan - val_acc: 0.7576\n",
      "Epoch 20/20\n",
      "110288/110288 [==============================] - 15s 132us/step - loss: 0.7302 - acc: 0.7634 - val_loss: nan - val_acc: 0.7628\n",
      "new jersey is sometimes quiet during autumn and it is snowy in april <PAD> <PAD> <PAD> <PAD> <PAD> <PAD> <PAD> <PAD>\n",
      "new jersey est parfois calme en mois de il et il en en en <PAD> <PAD> <PAD> <PAD> <PAD> <PAD> <PAD>\n"
     ]
    }
   ],
   "source": [
    "from keras.layers import Bidirectional\n",
    "from keras.optimizers import RMSprop\n",
    "\n",
    "\n",
    "def bd_model(input_shape, output_sequence_length, english_vocab_size, french_vocab_size, learning_rate=0.01):\n",
    "    \"\"\"\n",
    "    Build and train a bidirectional RNN model on x and y\n",
    "    :param input_shape: Tuple of input shape\n",
    "    :param output_sequence_length: Length of output sequence\n",
    "    :param english_vocab_size: Number of unique English words in the dataset\n",
    "    :param french_vocab_size: Number of unique French words in the dataset\n",
    "    :return: Keras model built, but not trained\n",
    "    \"\"\"\n",
    "    # TODO: Implement\n",
    "    inputs = Input(shape=(output_sequence_length,1)) \n",
    "    grus = Bidirectional(GRU(64,return_sequences=True))(inputs)\n",
    "    logits = Dense(french_vocab_size,activation=\"softmax\")(grus)\n",
    "    model = Model(inputs=inputs,outputs=logits)\n",
    "    model.compile(loss=sparse_categorical_crossentropy,\n",
    "                  optimizer=Adam(learning_rate),\n",
    "                  metrics=['accuracy'])\n",
    "    return model\n",
    "tests.test_bd_model(bd_model)\n",
    "\n",
    "\n",
    "# TODO: Train and Print prediction(s)\n",
    "tmp_x = pad(preproc_english_sentences, preproc_french_sentences.shape[1])\n",
    "tmp_x = tmp_x.reshape((-1, preproc_french_sentences.shape[-2], 1))\n",
    "\n",
    "bd = bd_model(\n",
    "    tmp_x.shape,\n",
    "    preproc_french_sentences.shape[1],\n",
    "    len(english_tokenizer.word_index),\n",
    "    len(french_tokenizer.word_index))\n",
    "bd.fit(tmp_x, preproc_french_sentences, batch_size=1024, epochs=20, validation_split=0.2)\n",
    "bd.save(\"bidirectional_model_e20.h5\")\n",
    "\n",
    "index_to_words = {id: word for word, id in english_tokenizer.word_index.items()}\n",
    "index_to_words[0] = '<PAD>'\n",
    "print(' '.join([index_to_words[word] for word in tmp_x[:1,].flatten()]))\n",
    "print(logits_to_text(bd.predict(tmp_x[:1])[0], french_tokenizer))"
   ]
  },
  {
   "cell_type": "code",
   "execution_count": 224,
   "metadata": {
    "collapsed": true
   },
   "outputs": [],
   "source": [
    "# Make room on GPU\n",
    "from keras import backend\n",
    "backend.clear_session()"
   ]
  },
  {
   "cell_type": "markdown",
   "metadata": {},
   "source": [
    "### Model 4: Encoder-Decoder (OPTIONAL)\n",
    "Time to look at encoder-decoder models.  This model is made up of an encoder and decoder. The encoder creates a matrix representation of the sentence.  The decoder takes this matrix as input and predicts the translation as output.\n",
    "\n",
    "Create an encoder-decoder model in the cell below."
   ]
  },
  {
   "cell_type": "code",
   "execution_count": null,
   "metadata": {
    "scrolled": false
   },
   "outputs": [],
   "source": [
    "def encdec_model(input_shape, output_sequence_length, english_vocab_size, french_vocab_size, learning_rate=0.01):\n",
    "    \"\"\"\n",
    "    Build and train an encoder-decoder model on x and y\n",
    "    :param input_shape: Tuple of input shape\n",
    "    :param output_sequence_length: Length of output sequence\n",
    "    :param english_vocab_size: Number of unique English words in the dataset\n",
    "    :param french_vocab_size: Number of unique French words in the dataset\n",
    "    :return: Keras model built, but not trained\n",
    "    \"\"\"\n",
    "    # OPTIONAL: Implement\n",
    "    return None\n",
    "tests.test_encdec_model(encdec_model)\n",
    "\n",
    "\n",
    "# OPTIONAL: Train and Print prediction(s)"
   ]
  },
  {
   "cell_type": "markdown",
   "metadata": {},
   "source": [
    "### Model 5: Custom (IMPLEMENTATION)\n",
    "Use everything you learned from the previous models to create a model that incorporates embedding and a bidirectional rnn into one model."
   ]
  },
  {
   "cell_type": "code",
   "execution_count": 280,
   "metadata": {
    "scrolled": false
   },
   "outputs": [
    {
     "name": "stdout",
     "output_type": "stream",
     "text": [
      "Final Model Loaded\n"
     ]
    }
   ],
   "source": [
    "from keras.layers import Dropout, TimeDistributed, RepeatVector, Reshape\n",
    "from keras.callbacks import ModelCheckpoint, ReduceLROnPlateau, EarlyStopping, TensorBoard\n",
    "from keras.regularizers import l1, l2\n",
    "\n",
    "\n",
    "# The hidden structure of the final model is:\n",
    "#\n",
    "# 1) an embedding layer\n",
    "# 2) a bidirectional GRU with dropout\n",
    "# 3) a dense layer with tanh activation and dropout\n",
    "# \n",
    "# Experimentation with the size of each of the layers, learning rate,\n",
    "# plateau learning rate reduction and stopping rate led to this configuration.\n",
    "#\n",
    "# Note that unit tests are disabled.  \n",
    "# They fail on input shape, which does not concern me.\n",
    "\n",
    "def model_final(input_shape, output_sequence_length, english_vocab_size, french_vocab_size, learning_rate=0.01):\n",
    "    \"\"\"\n",
    "    Build and train a model that incorporates embedding, encoder-decoder, and bidirectional RNN on x and y\n",
    "    :param input_shape: Tuple of input shape\n",
    "    :param output_sequence_length: Length of output sequence\n",
    "    :param english_vocab_size: Number of unique English words in the dataset\n",
    "    :param french_vocab_size: Number of unique French words in the dataset\n",
    "    :return: Keras model built, but not trained\n",
    "    \"\"\"\n",
    "    \n",
    "    esize = 64\n",
    "    rsize = 128\n",
    "    dlayers = [64, 64, 64]\n",
    "    \n",
    "    # build a tensor\n",
    "    inputs = Input(shape=input_shape[1:]) \n",
    "    \n",
    "    # embed input tensor of english sequences onto R64 embedding sequence (32, 16 also tested)\n",
    "    tensor = Embedding(english_vocab_size,\n",
    "                      esize,\n",
    "                      input_length=input_shape[-1]\n",
    "                      )(inputs)\n",
    "    \n",
    "    # bidirectional 256-GRU recurrent layer (128, 64 also tested) \n",
    "    tensor = Bidirectional(GRU(rsize,activation=\"tanh\"))(tensor)\n",
    "    \n",
    "    # regularize GRUs through dropout\n",
    "    tensor = Dropout(0.1)(tensor)\n",
    "    \n",
    "    # repeat input for output vector here\n",
    "    tensor = RepeatVector(output_sequence_length)(tensor)\n",
    "        \n",
    "    # bidirectional 256-GRU recurrent layer (128, 64 also tested) \n",
    "    tensor = Bidirectional(GRU(rsize,return_sequences=True,activation=\"tanh\"))(tensor)\n",
    "    \n",
    "    # regularize GRUs through dropout\n",
    "    tensor = Dropout(0.1)(tensor)\n",
    "\n",
    "    # arbitrary deep\n",
    "    for dsize in dlayers:\n",
    "        \n",
    "        # densely connected layer\n",
    "        tensor = TimeDistributed(Dense(dsize,activation=\"tanh\"))(tensor)\n",
    "\n",
    "        # regularize dense layer through dropout\n",
    "        tensor = Dropout(0.1)(tensor)\n",
    "\n",
    "    # densely connected 256-tanh layer (128, 64 also tested)\n",
    "    #tensor = TimeDistributed(Dense(tanhsize,activation=\"tanh\"))(tensor)\n",
    "    \n",
    "    # regularize dense layer through dropout\n",
    "    #tensor = Dropout(0.1)(tensor)\n",
    "    \n",
    "    # french vocab logits with softmax activatoin layer\n",
    "    tensor = TimeDistributed(Dense(french_vocab_size,activation=\"softmax\"))(tensor)\n",
    "    \n",
    "    # connect tensor network in model\n",
    "    model = Model(inputs=inputs,outputs=tensor)\n",
    "    \n",
    "    # compile tensorflow model\n",
    "    model.compile(loss=sparse_categorical_crossentropy,\n",
    "                  optimizer=Adam(learning_rate),\n",
    "                  metrics=['accuracy'])\n",
    "    \n",
    "    return model\n",
    "\n",
    "tests.test_model_final(model_final)\n",
    "\n",
    "print('Final Model Loaded')"
   ]
  },
  {
   "cell_type": "code",
   "execution_count": 284,
   "metadata": {
    "collapsed": true
   },
   "outputs": [],
   "source": [
    "# Make room on GPU\n",
    "from keras import backend\n",
    "backend.clear_session()"
   ]
  },
  {
   "cell_type": "markdown",
   "metadata": {},
   "source": [
    "## Prediction (IMPLEMENTATION)"
   ]
  },
  {
   "cell_type": "code",
   "execution_count": 285,
   "metadata": {
    "scrolled": false
   },
   "outputs": [
    {
     "name": "stdout",
     "output_type": "stream",
     "text": [
      "(137861, 15)\n",
      "(137861, 21, 1)\n",
      "_________________________________________________________________\n",
      "Layer (type)                 Output Shape              Param #   \n",
      "=================================================================\n",
      "input_1 (InputLayer)         (None, 15)                0         \n",
      "_________________________________________________________________\n",
      "embedding_1 (Embedding)      (None, 15, 64)            12736     \n",
      "_________________________________________________________________\n",
      "bidirectional_1 (Bidirection (None, 256)               148224    \n",
      "_________________________________________________________________\n",
      "dropout_1 (Dropout)          (None, 256)               0         \n",
      "_________________________________________________________________\n",
      "repeat_vector_1 (RepeatVecto (None, 21, 256)           0         \n",
      "_________________________________________________________________\n",
      "bidirectional_2 (Bidirection (None, 21, 256)           295680    \n",
      "_________________________________________________________________\n",
      "dropout_2 (Dropout)          (None, 21, 256)           0         \n",
      "_________________________________________________________________\n",
      "time_distributed_1 (TimeDist (None, 21, 64)            16448     \n",
      "_________________________________________________________________\n",
      "dropout_3 (Dropout)          (None, 21, 64)            0         \n",
      "_________________________________________________________________\n",
      "time_distributed_2 (TimeDist (None, 21, 64)            4160      \n",
      "_________________________________________________________________\n",
      "dropout_4 (Dropout)          (None, 21, 64)            0         \n",
      "_________________________________________________________________\n",
      "time_distributed_3 (TimeDist (None, 21, 64)            4160      \n",
      "_________________________________________________________________\n",
      "dropout_5 (Dropout)          (None, 21, 64)            0         \n",
      "_________________________________________________________________\n",
      "time_distributed_4 (TimeDist (None, 21, 345)           22425     \n",
      "=================================================================\n",
      "Total params: 503,833\n",
      "Trainable params: 503,833\n",
      "Non-trainable params: 0\n",
      "_________________________________________________________________\n",
      "Train on 110288 samples, validate on 27573 samples\n",
      "Epoch 1/100\n",
      "110288/110288 [==============================] - 84s 760us/step - loss: 1.9774 - acc: 0.5255 - val_loss: nan - val_acc: 0.6324\n",
      "Epoch 2/100\n",
      "110288/110288 [==============================] - 83s 756us/step - loss: 1.3429 - acc: 0.6240 - val_loss: nan - val_acc: 0.6759\n",
      "Epoch 3/100\n",
      "110288/110288 [==============================] - 83s 754us/step - loss: 1.2316 - acc: 0.6508 - val_loss: nan - val_acc: 0.6886\n",
      "Epoch 4/100\n",
      "110288/110288 [==============================] - 83s 751us/step - loss: 1.1843 - acc: 0.6607 - val_loss: nan - val_acc: 0.6905\n",
      "Epoch 5/100\n",
      "110288/110288 [==============================] - 84s 760us/step - loss: 1.1385 - acc: 0.6694 - val_loss: nan - val_acc: 0.7031\n",
      "Epoch 6/100\n",
      "110288/110288 [==============================] - 89s 805us/step - loss: 1.0988 - acc: 0.6786 - val_loss: nan - val_acc: 0.7126\n",
      "Epoch 7/100\n",
      "110288/110288 [==============================] - 94s 848us/step - loss: 1.0657 - acc: 0.6880 - val_loss: nan - val_acc: 0.7271\n",
      "Epoch 8/100\n",
      "110288/110288 [==============================] - 93s 848us/step - loss: 1.0354 - acc: 0.6986 - val_loss: nan - val_acc: 0.7297\n",
      "Epoch 9/100\n",
      "110288/110288 [==============================] - 94s 850us/step - loss: 1.0055 - acc: 0.7050 - val_loss: nan - val_acc: 0.7289acc\n",
      "Epoch 10/100\n",
      "110288/110288 [==============================] - 91s 822us/step - loss: 0.9802 - acc: 0.7103 - val_loss: nan - val_acc: 0.7416\n",
      "Epoch 11/100\n",
      "110288/110288 [==============================] - 92s 833us/step - loss: 0.9633 - acc: 0.7157 - val_loss: nan - val_acc: 0.7424\n",
      "Epoch 12/100\n",
      "110288/110288 [==============================] - 93s 845us/step - loss: 0.9407 - acc: 0.7211 - val_loss: nan - val_acc: 0.7464\n",
      "Epoch 13/100\n",
      "110288/110288 [==============================] - 92s 832us/step - loss: 0.9370 - acc: 0.7225 - val_loss: nan - val_acc: 0.7478\n",
      "Epoch 14/100\n",
      "110288/110288 [==============================] - 91s 825us/step - loss: 0.9191 - acc: 0.7264 - val_loss: nan - val_acc: 0.7434\n",
      "Epoch 15/100\n",
      "110288/110288 [==============================] - 90s 820us/step - loss: 0.9094 - acc: 0.7281 - val_loss: nan - val_acc: 0.7498\n",
      "Epoch 16/100\n",
      "110288/110288 [==============================] - 92s 838us/step - loss: 0.8939 - acc: 0.7312 - val_loss: nan - val_acc: 0.7536\n",
      "Epoch 17/100\n",
      "110288/110288 [==============================] - 90s 816us/step - loss: 0.8860 - acc: 0.7330 - val_loss: nan - val_acc: 0.7564\n",
      "Epoch 18/100\n",
      "110288/110288 [==============================] - 85s 767us/step - loss: 0.8755 - acc: 0.7352 - val_loss: nan - val_acc: 0.7559\n",
      "Epoch 19/100\n",
      "110288/110288 [==============================] - 85s 767us/step - loss: 0.8683 - acc: 0.7371 - val_loss: nan - val_acc: 0.7585\n",
      "Epoch 20/100\n",
      "110288/110288 [==============================] - 84s 760us/step - loss: 0.8584 - acc: 0.7391 - val_loss: nan - val_acc: 0.7597\n",
      "Epoch 21/100\n",
      "110288/110288 [==============================] - 83s 751us/step - loss: 0.8531 - acc: 0.7404 - val_loss: nan - val_acc: 0.7618\n",
      "Epoch 22/100\n",
      "110288/110288 [==============================] - 83s 757us/step - loss: 0.8457 - acc: 0.7421 - val_loss: nan - val_acc: 0.7619\n",
      "Epoch 23/100\n",
      "110288/110288 [==============================] - 84s 757us/step - loss: 0.8412 - acc: 0.7431 - val_loss: nan - val_acc: 0.7634\n",
      "Epoch 24/100\n",
      "110288/110288 [==============================] - 83s 757us/step - loss: 0.8369 - acc: 0.7448 - val_loss: nan - val_acc: 0.7663\n",
      "Epoch 25/100\n",
      "110288/110288 [==============================] - 84s 758us/step - loss: 0.8308 - acc: 0.7463 - val_loss: nan - val_acc: 0.7678\n",
      "Epoch 26/100\n",
      "110288/110288 [==============================] - 84s 758us/step - loss: 0.8270 - acc: 0.7474 - val_loss: nan - val_acc: 0.7687\n",
      "Epoch 27/100\n",
      "110288/110288 [==============================] - 84s 759us/step - loss: 0.8232 - acc: 0.7486 - val_loss: nan - val_acc: 0.7691\n",
      "Epoch 28/100\n",
      "110288/110288 [==============================] - 83s 755us/step - loss: 0.8187 - acc: 0.7501 - val_loss: nan - val_acc: 0.7714\n",
      "Epoch 29/100\n",
      "110288/110288 [==============================] - 83s 753us/step - loss: 0.8158 - acc: 0.7513 - val_loss: nan - val_acc: 0.7735\n",
      "Epoch 30/100\n",
      "110288/110288 [==============================] - 84s 761us/step - loss: 0.8124 - acc: 0.7523 - val_loss: nan - val_acc: 0.7738\n",
      "Epoch 31/100\n",
      "110288/110288 [==============================] - 84s 759us/step - loss: 0.8086 - acc: 0.7535 - val_loss: nan - val_acc: 0.7749\n",
      "Epoch 32/100\n",
      "110288/110288 [==============================] - 83s 753us/step - loss: 0.8062 - acc: 0.7543 - val_loss: nan - val_acc: 0.7767\n",
      "Epoch 33/100\n",
      "110288/110288 [==============================] - 83s 757us/step - loss: 0.8043 - acc: 0.7551 - val_loss: nan - val_acc: 0.7762\n",
      "Epoch 34/100\n",
      "110288/110288 [==============================] - 83s 756us/step - loss: 0.8021 - acc: 0.7555 - val_loss: nan - val_acc: 0.7768\n",
      "Epoch 35/100\n",
      "110288/110288 [==============================] - 83s 752us/step - loss: 0.8000 - acc: 0.7566 - val_loss: nan - val_acc: 0.7777\n",
      "Epoch 36/100\n",
      "110288/110288 [==============================] - 84s 758us/step - loss: 0.7980 - acc: 0.7570 - val_loss: nan - val_acc: 0.7785\n",
      "Epoch 37/100\n",
      "110288/110288 [==============================] - 84s 761us/step - loss: 0.7970 - acc: 0.7571 - val_loss: nan - val_acc: 0.7786\n",
      "Sample 1:\n",
      "il a vu une vieille voiture rouge <PAD> <PAD> <PAD> <PAD> <PAD> <PAD> <PAD> <PAD> <PAD> <PAD> <PAD> <PAD> <PAD> <PAD>\n",
      "Il a vu un vieux camion jaune\n",
      "Sample 2:\n",
      "new jersey est parfois chaud pendant l' hiver et il est agrã©able en septembre <PAD> <PAD> <PAD> <PAD> <PAD> <PAD> <PAD>\n",
      "<PAD> <PAD> <PAD> <PAD> <PAD> <PAD> <PAD> <PAD> <PAD> <PAD> <PAD> <PAD> <PAD> <PAD> <PAD> <PAD> <PAD> <PAD> <PAD> <PAD> <PAD>\n"
     ]
    }
   ],
   "source": [
    "import numpy as np\n",
    "from keras.preprocessing.sequence import pad_sequences\n",
    "from keras.callbacks import LearningRateScheduler\n",
    "\n",
    "\n",
    "def final_predictions(x, y, x_tk, y_tk):\n",
    "    \"\"\"\n",
    "    Gets predictions using the final model\n",
    "    :param x: Preprocessed English data\n",
    "    :param y: Preprocessed French data\n",
    "    :param x_tk: English tokenizer\n",
    "    :param y_tk: French tokenizer\n",
    "    \"\"\"\n",
    "    \n",
    "    # tensor shape mismatches result if I don't pad, so I do\n",
    "    #x = pad(x, y.shape[1])\n",
    "    \n",
    "    print(x.shape)\n",
    "    print(y.shape)\n",
    "    \n",
    "    # fit to x, y\n",
    "    model = model_final(\n",
    "        x.shape,\n",
    "        y.shape[1],\n",
    "        len(x_tk.word_index),\n",
    "        len(y_tk.word_index))\n",
    "    \n",
    "    # print the model layout\n",
    "    model.summary()\n",
    "    \n",
    "    # save and keep the best weights based on validation accuracy\n",
    "    checkpointer = ModelCheckpoint(filepath=\"final_model_best.h5\",\n",
    "                                  monitor=\"val_acc\",\n",
    "                                  save_best_only=True,\n",
    "                                  mode='max',\n",
    "                                  save_weights_only=True,\n",
    "                                  period=1,\n",
    "                                  verbose=0)\n",
    "    \n",
    "    # reduce the learning rate by half if we go epochs without increase\n",
    "    tuner = ReduceLROnPlateau(monitor='val_acc', \n",
    "                                mode='max',\n",
    "                                factor=0.5,\n",
    "                                patience=1, \n",
    "                                min_lr=0.0001,\n",
    "                                epsilon=0.001,\n",
    "                                verbose=0)\n",
    "    \n",
    "    def lr(epoch):\n",
    "        return 0.01 * (0.875**(epoch-1)\n",
    "    \n",
    "    # stop training early if we go five epochs without increase\n",
    "    terminator = EarlyStopping(monitor='val_acc',\n",
    "                               mode='max',\n",
    "                              min_delta=0.002,\n",
    "                              patience=5)\n",
    "    \n",
    "    # output logs for tensorboard\n",
    "    tensorboard = TensorBoard(log_dir='./logs/final2')\n",
    "    \n",
    "    # train the model up to 100 epochs\n",
    "    model.fit(x, \n",
    "                y, \n",
    "                batch_size=128, \n",
    "                epochs=100, \n",
    "                validation_split=0.2, \n",
    "                callbacks=[checkpointer,LearningRateScheduler(lr),terminator,tensorboard])\n",
    "    \n",
    "    # load the best weights before final use\n",
    "    model.load_weights(\"final_model_best.h5\")\n",
    "\n",
    "    \n",
    "    ## DON'T EDIT ANYTHING BELOW THIS LINE\n",
    "    y_id_to_word = {value: key for key, value in y_tk.word_index.items()}\n",
    "    y_id_to_word[0] = '<PAD>'\n",
    "\n",
    "    sentence = 'he saw a old yellow truck'\n",
    "    sentence = [x_tk.word_index[word] for word in sentence.split()]\n",
    "    sentence = pad_sequences([sentence], maxlen=x.shape[-1], padding='post')\n",
    "    sentences = np.array([sentence[0], x[0]])\n",
    "    predictions = model.predict(sentences, len(sentences))\n",
    "\n",
    "    print('Sample 1:')\n",
    "    print(' '.join([y_id_to_word[np.argmax(x)] for x in predictions[0]]))\n",
    "    print('Il a vu un vieux camion jaune')\n",
    "    print('Sample 2:')\n",
    "    print(' '.join([y_id_to_word[np.argmax(x)] for x in predictions[1]]))\n",
    "    print(' '.join([y_id_to_word[np.argmax(x)] for x in y[0]]))\n",
    "\n",
    "\n",
    "final_predictions(preproc_english_sentences, preproc_french_sentences, english_tokenizer, french_tokenizer)"
   ]
  },
  {
   "cell_type": "markdown",
   "metadata": {},
   "source": [
    "## Submission\n",
    "When you are ready to submit your project, do the following steps:\n",
    "1. Ensure you pass all points on the [rubric](https://review.udacity.com/#!/rubrics/1004/view).\n",
    "2. Submit the following in a zip file.\n",
    "  - `helper.py`\n",
    "  - `machine_translation.ipynb`\n",
    "  - `machine_translation.html`\n",
    "    - You can export the notebook by navigating to **File -> Download as -> HTML (.html)**."
   ]
  }
 ],
 "metadata": {
  "kernelspec": {
   "display_name": "Python 3",
   "language": "python",
   "name": "python3"
  },
  "language_info": {
   "codemirror_mode": {
    "name": "ipython",
    "version": 3
   },
   "file_extension": ".py",
   "mimetype": "text/x-python",
   "name": "python",
   "nbconvert_exporter": "python",
   "pygments_lexer": "ipython3",
   "version": "3.5.4"
  }
 },
 "nbformat": 4,
 "nbformat_minor": 1
}
